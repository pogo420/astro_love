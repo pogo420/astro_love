{
 "cells": [
  {
   "cell_type": "code",
   "execution_count": 5,
   "id": "ea708d0d",
   "metadata": {},
   "outputs": [],
   "source": [
    "### setting source planet"
   ]
  },
  {
   "cell_type": "code",
   "execution_count": 6,
   "id": "06c7adfb",
   "metadata": {},
   "outputs": [],
   "source": [
    "from skyfield.api import load\n",
    "planets = load('de421.bsp')\n",
    "earth = planets['earth']"
   ]
  },
  {
   "cell_type": "code",
   "execution_count": 7,
   "id": "d42abb77",
   "metadata": {},
   "outputs": [],
   "source": [
    "### getting all star data"
   ]
  },
  {
   "cell_type": "code",
   "execution_count": 8,
   "id": "b51a38ca",
   "metadata": {},
   "outputs": [],
   "source": [
    "from skyfield.data import hipparcos\n",
    "\n",
    "with load.open(hipparcos.URL) as f:\n",
    "    stars = hipparcos.load_dataframe(f)"
   ]
  },
  {
   "cell_type": "code",
   "execution_count": 29,
   "id": "8142c1e8",
   "metadata": {},
   "outputs": [
    {
     "data": {
      "text/html": [
       "<div>\n",
       "<style scoped>\n",
       "    .dataframe tbody tr th:only-of-type {\n",
       "        vertical-align: middle;\n",
       "    }\n",
       "\n",
       "    .dataframe tbody tr th {\n",
       "        vertical-align: top;\n",
       "    }\n",
       "\n",
       "    .dataframe thead th {\n",
       "        text-align: right;\n",
       "    }\n",
       "</style>\n",
       "<table border=\"1\" class=\"dataframe\">\n",
       "  <thead>\n",
       "    <tr style=\"text-align: right;\">\n",
       "      <th></th>\n",
       "      <th>magnitude</th>\n",
       "      <th>ra_degrees</th>\n",
       "      <th>dec_degrees</th>\n",
       "      <th>parallax_mas</th>\n",
       "      <th>ra_mas_per_year</th>\n",
       "      <th>dec_mas_per_year</th>\n",
       "      <th>ra_hours</th>\n",
       "      <th>epoch_year</th>\n",
       "    </tr>\n",
       "    <tr>\n",
       "      <th>hip</th>\n",
       "      <th></th>\n",
       "      <th></th>\n",
       "      <th></th>\n",
       "      <th></th>\n",
       "      <th></th>\n",
       "      <th></th>\n",
       "      <th></th>\n",
       "      <th></th>\n",
       "    </tr>\n",
       "  </thead>\n",
       "  <tbody>\n",
       "    <tr>\n",
       "      <th>1</th>\n",
       "      <td>9.10</td>\n",
       "      <td>0.000912</td>\n",
       "      <td>1.089013</td>\n",
       "      <td>3.54</td>\n",
       "      <td>-5.20</td>\n",
       "      <td>-1.88</td>\n",
       "      <td>0.000061</td>\n",
       "      <td>1991.25</td>\n",
       "    </tr>\n",
       "    <tr>\n",
       "      <th>2</th>\n",
       "      <td>9.27</td>\n",
       "      <td>0.003797</td>\n",
       "      <td>-19.498837</td>\n",
       "      <td>21.90</td>\n",
       "      <td>181.21</td>\n",
       "      <td>-0.93</td>\n",
       "      <td>0.000253</td>\n",
       "      <td>1991.25</td>\n",
       "    </tr>\n",
       "    <tr>\n",
       "      <th>3</th>\n",
       "      <td>6.61</td>\n",
       "      <td>0.005008</td>\n",
       "      <td>38.859286</td>\n",
       "      <td>2.81</td>\n",
       "      <td>5.24</td>\n",
       "      <td>-2.91</td>\n",
       "      <td>0.000334</td>\n",
       "      <td>1991.25</td>\n",
       "    </tr>\n",
       "    <tr>\n",
       "      <th>4</th>\n",
       "      <td>8.06</td>\n",
       "      <td>0.008382</td>\n",
       "      <td>-51.893546</td>\n",
       "      <td>7.75</td>\n",
       "      <td>62.85</td>\n",
       "      <td>0.16</td>\n",
       "      <td>0.000559</td>\n",
       "      <td>1991.25</td>\n",
       "    </tr>\n",
       "    <tr>\n",
       "      <th>5</th>\n",
       "      <td>8.55</td>\n",
       "      <td>0.009965</td>\n",
       "      <td>-40.591224</td>\n",
       "      <td>2.87</td>\n",
       "      <td>2.53</td>\n",
       "      <td>9.07</td>\n",
       "      <td>0.000664</td>\n",
       "      <td>1991.25</td>\n",
       "    </tr>\n",
       "  </tbody>\n",
       "</table>\n",
       "</div>"
      ],
      "text/plain": [
       "     magnitude  ra_degrees  dec_degrees  parallax_mas  ra_mas_per_year  \\\n",
       "hip                                                                      \n",
       "1         9.10    0.000912     1.089013          3.54            -5.20   \n",
       "2         9.27    0.003797   -19.498837         21.90           181.21   \n",
       "3         6.61    0.005008    38.859286          2.81             5.24   \n",
       "4         8.06    0.008382   -51.893546          7.75            62.85   \n",
       "5         8.55    0.009965   -40.591224          2.87             2.53   \n",
       "\n",
       "     dec_mas_per_year  ra_hours  epoch_year  \n",
       "hip                                          \n",
       "1               -1.88  0.000061     1991.25  \n",
       "2               -0.93  0.000253     1991.25  \n",
       "3               -2.91  0.000334     1991.25  \n",
       "4                0.16  0.000559     1991.25  \n",
       "5                9.07  0.000664     1991.25  "
      ]
     },
     "execution_count": 29,
     "metadata": {},
     "output_type": "execute_result"
    }
   ],
   "source": [
    "stars.head()"
   ]
  },
  {
   "cell_type": "code",
   "execution_count": null,
   "id": "c710cb27",
   "metadata": {},
   "outputs": [],
   "source": []
  },
  {
   "cell_type": "code",
   "execution_count": null,
   "id": "6611a834",
   "metadata": {},
   "outputs": [],
   "source": []
  }
 ],
 "metadata": {
  "kernelspec": {
   "display_name": "Python 3 (ipykernel)",
   "language": "python",
   "name": "python3"
  },
  "language_info": {
   "codemirror_mode": {
    "name": "ipython",
    "version": 3
   },
   "file_extension": ".py",
   "mimetype": "text/x-python",
   "name": "python",
   "nbconvert_exporter": "python",
   "pygments_lexer": "ipython3",
   "version": "3.9.7"
  }
 },
 "nbformat": 4,
 "nbformat_minor": 5
}
